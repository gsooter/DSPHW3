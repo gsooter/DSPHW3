{
 "cells": [
  {
   "cell_type": "code",
   "execution_count": 1,
   "id": "7b4f3a5a",
   "metadata": {},
   "outputs": [
    {
     "name": "stdout",
     "output_type": "stream",
     "text": [
      "Populating the interactive namespace from numpy and matplotlib\n"
     ]
    }
   ],
   "source": [
    "from pandas import Series, DataFrame\n",
    "import pandas as pd\n",
    "%pylab inline"
   ]
  },
  {
   "cell_type": "code",
   "execution_count": 2,
   "id": "ef6ead91",
   "metadata": {},
   "outputs": [],
   "source": [
    "labels = pd.read_csv('labels.txt', sep = '\\t', names = ['turk', 'URL', 'Category'])\n",
    "gold = pd.read_csv('gold.txt', sep = \"\\t\", names = [\"URL\", \"Category\"])"
   ]
  },
  {
   "cell_type": "code",
   "execution_count": 3,
   "id": "91e1a80f",
   "metadata": {},
   "outputs": [],
   "source": [
    "df=labels.merge(gold,how='left',left_on='URL',right_on='URL',suffixes=['_label','_gold'])\n",
    "\n",
    "labels_on_gold=df[df['Category_gold'].notna()]\n",
    "label_unknown=df[df['Category_gold'].isna()]"
   ]
  },
  {
   "cell_type": "code",
   "execution_count": 13,
   "id": "35d3eb22",
   "metadata": {},
   "outputs": [],
   "source": [
    "correct = labels_on_gold.copy()\n",
    "\n",
    "correct['goodrate'] = (correct['Category_gold'] == correct['Category_label']).astype(int)\n",
    "mask = (labels_on_gold['URL'] == gold.iloc[0]['URL'])*1\n",
    "\n",
    "rater_goodness = correct.groupby('turk')['goodrate'].agg(['count','mean'])\n",
    "rater_goodness2 = rater_goodness[rater_goodness['count']>=20]"
   ]
  },
  {
   "cell_type": "markdown",
   "id": "6e98c4ab",
   "metadata": {},
   "source": [
    "You need to have the names as mean and count again to porperly run this regression, I dont know why the renamed variables did not work. "
   ]
  },
  {
   "cell_type": "code",
   "execution_count": 14,
   "id": "1ec85863",
   "metadata": {},
   "outputs": [
    {
     "name": "stdout",
     "output_type": "stream",
     "text": [
      "                            OLS Regression Results                            \n",
      "==============================================================================\n",
      "Dep. Variable:                   mean   R-squared:                       0.002\n",
      "Model:                            OLS   Adj. R-squared:                 -0.002\n",
      "Method:                 Least Squares   F-statistic:                    0.5488\n",
      "Date:                Tue, 03 Aug 2021   Prob (F-statistic):              0.459\n",
      "Time:                        17:08:53   Log-Likelihood:                -94.663\n",
      "No. Observations:                 269   AIC:                             193.3\n",
      "Df Residuals:                     267   BIC:                             200.5\n",
      "Df Model:                           1                                         \n",
      "Covariance Type:            nonrobust                                         \n",
      "==============================================================================\n",
      "                 coef    std err          t      P>|t|      [0.025      0.975]\n",
      "------------------------------------------------------------------------------\n",
      "Intercept      0.6431      0.024     27.071      0.000       0.596       0.690\n",
      "count          0.0007      0.001      0.741      0.459      -0.001       0.002\n",
      "==============================================================================\n",
      "Omnibus:                       29.253   Durbin-Watson:                   2.072\n",
      "Prob(Omnibus):                  0.000   Jarque-Bera (JB):               28.396\n",
      "Skew:                          -0.731   Prob(JB):                     6.82e-07\n",
      "Kurtosis:                       2.373   Cond. No.                         30.1\n",
      "==============================================================================\n",
      "\n",
      "Notes:\n",
      "[1] Standard Errors assume that the covariance matrix of the errors is correctly specified.\n"
     ]
    }
   ],
   "source": [
    "import statsmodels.api as sm\n",
    "from patsy import dmatrices\n",
    "\n",
    "y, X = dmatrices('mean ~ count', data = rater_goodness, return_type = 'dataframe')\n",
    "\n",
    "model = sm.OLS(y,X)\n",
    "result = model.fit()\n",
    "print(result.summary())"
   ]
  },
  {
   "cell_type": "markdown",
   "id": "ae684f44",
   "metadata": {},
   "source": [
    "rater_goodness2 is my variable for those that have more than 20 ratings. "
   ]
  },
  {
   "cell_type": "code",
   "execution_count": 7,
   "id": "add539e4",
   "metadata": {},
   "outputs": [
    {
     "name": "stdout",
     "output_type": "stream",
     "text": [
      "                            OLS Regression Results                            \n",
      "==============================================================================\n",
      "Dep. Variable:                   mean   R-squared:                       0.000\n",
      "Model:                            OLS   Adj. R-squared:                 -0.020\n",
      "Method:                 Least Squares   F-statistic:                  0.004607\n",
      "Date:                Tue, 03 Aug 2021   Prob (F-statistic):              0.946\n",
      "Time:                        17:03:27   Log-Likelihood:                 29.366\n",
      "No. Observations:                  52   AIC:                            -54.73\n",
      "Df Residuals:                      50   BIC:                            -50.83\n",
      "Df Model:                           1                                         \n",
      "Covariance Type:            nonrobust                                         \n",
      "==============================================================================\n",
      "                 coef    std err          t      P>|t|      [0.025      0.975]\n",
      "------------------------------------------------------------------------------\n",
      "Intercept      0.6848      0.034     20.129      0.000       0.616       0.753\n",
      "count      -3.868e-05      0.001     -0.068      0.946      -0.001       0.001\n",
      "==============================================================================\n",
      "Omnibus:                       27.707   Durbin-Watson:                   2.267\n",
      "Prob(Omnibus):                  0.000   Jarque-Bera (JB):               64.727\n",
      "Skew:                          -1.496   Prob(JB):                     8.81e-15\n",
      "Kurtosis:                       7.574   Cond. No.                         104.\n",
      "==============================================================================\n",
      "\n",
      "Notes:\n",
      "[1] Standard Errors assume that the covariance matrix of the errors is correctly specified.\n"
     ]
    }
   ],
   "source": [
    "y, X = dmatrices('mean ~ count', data = rater_goodness2, return_type = 'dataframe')\n",
    "\n",
    "model = sm.OLS(y,X)\n",
    "result = model.fit()\n",
    "print(result.summary())"
   ]
  },
  {
   "cell_type": "markdown",
   "id": "dbbd4136",
   "metadata": {},
   "source": [
    "- The regression is telling us there is no significant predictive power of the model when trying to predict the mean from count. The model with the turks that have rated more than 20 URLs is very slightly better but not meaningful in anyway. Probably just because there is less variation in this limited set. "
   ]
  }
 ],
 "metadata": {
  "kernelspec": {
   "display_name": "Python 3",
   "language": "python",
   "name": "python3"
  },
  "language_info": {
   "codemirror_mode": {
    "name": "ipython",
    "version": 3
   },
   "file_extension": ".py",
   "mimetype": "text/x-python",
   "name": "python",
   "nbconvert_exporter": "python",
   "pygments_lexer": "ipython3",
   "version": "3.8.8"
  }
 },
 "nbformat": 4,
 "nbformat_minor": 5
}
